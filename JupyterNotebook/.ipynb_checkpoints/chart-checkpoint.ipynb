{
 "cells": [
  {
   "cell_type": "code",
   "execution_count": 1,
   "id": "31cc734c-a2ae-4f60-8f03-ed324c8f4039",
   "metadata": {},
   "outputs": [],
   "source": [
    "import os # to create an interface with our operating system\n",
    "import sys # information on how our code is interacting with the host system\n",
    "import pymongo # for working with the MongoDB API"
   ]
  },
  {
   "cell_type": "code",
   "execution_count": 2,
   "id": "0bc470b4-a0b6-4604-be84-4b1cdd97a879",
   "metadata": {},
   "outputs": [],
   "source": [
    "client = pymongo.MongoClient('mongodb://localhost:27017')\n"
   ]
  },
  {
   "cell_type": "code",
   "execution_count": 3,
   "id": "7233e4bc-573c-4972-bb65-eb421f585c61",
   "metadata": {},
   "outputs": [],
   "source": [
    " db = client.Music5"
   ]
  },
  {
   "cell_type": "code",
   "execution_count": 4,
   "id": "69fb315c-00bb-459d-8062-fc4ef92cf355",
   "metadata": {},
   "outputs": [],
   "source": [
    "collection = db.Music_song"
   ]
  },
  {
   "cell_type": "code",
   "execution_count": 5,
   "id": "cd9f60cf-6d16-4a23-87c1-505d74cfa991",
   "metadata": {},
   "outputs": [],
   "source": [
    "test = collection.find_one()"
   ]
  },
  {
   "cell_type": "code",
   "execution_count": 6,
   "id": "851daf70-54f0-4ef7-ba7b-5674d35c8ada",
   "metadata": {},
   "outputs": [],
   "source": [
    "import pandas as pd"
   ]
  },
  {
   "cell_type": "code",
   "execution_count": 7,
   "id": "9994552f-5c90-49d7-a38a-3026ac63a4d2",
   "metadata": {},
   "outputs": [],
   "source": [
    "data = pd.DataFrame(list(db.Music_song.find()))"
   ]
  },
  {
   "cell_type": "code",
   "execution_count": 8,
   "id": "58543e9e-3046-49bd-904f-b3b12266c059",
   "metadata": {},
   "outputs": [
    {
     "data": {
      "text/html": [
       "<div>\n",
       "<style scoped>\n",
       "    .dataframe tbody tr th:only-of-type {\n",
       "        vertical-align: middle;\n",
       "    }\n",
       "\n",
       "    .dataframe tbody tr th {\n",
       "        vertical-align: top;\n",
       "    }\n",
       "\n",
       "    .dataframe thead th {\n",
       "        text-align: right;\n",
       "    }\n",
       "</style>\n",
       "<table border=\"1\" class=\"dataframe\">\n",
       "  <thead>\n",
       "    <tr style=\"text-align: right;\">\n",
       "      <th></th>\n",
       "      <th>_id</th>\n",
       "      <th>id</th>\n",
       "      <th>Audio</th>\n",
       "      <th>Artist</th>\n",
       "      <th>Audiofile</th>\n",
       "      <th>Imageurl</th>\n",
       "      <th>Genre</th>\n",
       "      <th>Time</th>\n",
       "      <th>color</th>\n",
       "    </tr>\n",
       "  </thead>\n",
       "  <tbody>\n",
       "    <tr>\n",
       "      <th>0</th>\n",
       "      <td>61aff007b9026a519d9cbcfa</td>\n",
       "      <td>7</td>\n",
       "      <td>In Da Club</td>\n",
       "      <td>50 Cent</td>\n",
       "      <td>50_Cent_-__In_Da_Club.mp3</td>\n",
       "      <td>indaclub.jpg</td>\n",
       "      <td>HipHop</td>\n",
       "      <td>4.00</td>\n",
       "      <td>blue</td>\n",
       "    </tr>\n",
       "    <tr>\n",
       "      <th>1</th>\n",
       "      <td>61aff034b9026a519d9cbcfc</td>\n",
       "      <td>8</td>\n",
       "      <td>Up</td>\n",
       "      <td>Cardi B</td>\n",
       "      <td>Cardi_B_-_Up.mp3</td>\n",
       "      <td>up.jpg</td>\n",
       "      <td>HipHop</td>\n",
       "      <td>4.00</td>\n",
       "      <td>green</td>\n",
       "    </tr>\n",
       "    <tr>\n",
       "      <th>2</th>\n",
       "      <td>61aff077b9026a519d9cbcfe</td>\n",
       "      <td>9</td>\n",
       "      <td>Wap</td>\n",
       "      <td>Cardi B</td>\n",
       "      <td>nicki-minaj-stallion-wap-Thinknews.com_.ng_.mp3</td>\n",
       "      <td>wap.jpg</td>\n",
       "      <td>HipHop</td>\n",
       "      <td>4.00</td>\n",
       "      <td>white</td>\n",
       "    </tr>\n",
       "    <tr>\n",
       "      <th>3</th>\n",
       "      <td>61aff0b7b9026a519d9cbd00</td>\n",
       "      <td>10</td>\n",
       "      <td>Every chance I Get</td>\n",
       "      <td>Dj Khaled</td>\n",
       "      <td>everychanceiget.mp3</td>\n",
       "      <td>oneverything.jpg</td>\n",
       "      <td>HipHop</td>\n",
       "      <td>4.00</td>\n",
       "      <td>yellow</td>\n",
       "    </tr>\n",
       "    <tr>\n",
       "      <th>4</th>\n",
       "      <td>61aff0f7b9026a519d9cbd02</td>\n",
       "      <td>11</td>\n",
       "      <td>Ridin</td>\n",
       "      <td>Chamillionaire</td>\n",
       "      <td>Chamillionaire_-_Ridin_ft._Krayzie_Bone.mp3</td>\n",
       "      <td>ridin.jpg</td>\n",
       "      <td>HipHop</td>\n",
       "      <td>4.00</td>\n",
       "      <td>grey</td>\n",
       "    </tr>\n",
       "    <tr>\n",
       "      <th>5</th>\n",
       "      <td>61aff132b9026a519d9cbd04</td>\n",
       "      <td>12</td>\n",
       "      <td>Rapstar</td>\n",
       "      <td>Polo G</td>\n",
       "      <td>Polo-G-RAPSTAR-Official-Video.mp3</td>\n",
       "      <td>rapstar.jpg</td>\n",
       "      <td>HipHop</td>\n",
       "      <td>4.00</td>\n",
       "      <td>bisque</td>\n",
       "    </tr>\n",
       "  </tbody>\n",
       "</table>\n",
       "</div>"
      ],
      "text/plain": [
       "                        _id  id               Audio          Artist  \\\n",
       "0  61aff007b9026a519d9cbcfa   7          In Da Club         50 Cent   \n",
       "1  61aff034b9026a519d9cbcfc   8                  Up         Cardi B   \n",
       "2  61aff077b9026a519d9cbcfe   9                 Wap         Cardi B   \n",
       "3  61aff0b7b9026a519d9cbd00  10  Every chance I Get       Dj Khaled   \n",
       "4  61aff0f7b9026a519d9cbd02  11               Ridin  Chamillionaire   \n",
       "5  61aff132b9026a519d9cbd04  12             Rapstar          Polo G   \n",
       "\n",
       "                                         Audiofile          Imageurl   Genre  \\\n",
       "0                        50_Cent_-__In_Da_Club.mp3      indaclub.jpg  HipHop   \n",
       "1                                 Cardi_B_-_Up.mp3            up.jpg  HipHop   \n",
       "2  nicki-minaj-stallion-wap-Thinknews.com_.ng_.mp3           wap.jpg  HipHop   \n",
       "3                              everychanceiget.mp3  oneverything.jpg  HipHop   \n",
       "4      Chamillionaire_-_Ridin_ft._Krayzie_Bone.mp3         ridin.jpg  HipHop   \n",
       "5                Polo-G-RAPSTAR-Official-Video.mp3       rapstar.jpg  HipHop   \n",
       "\n",
       "   Time   color  \n",
       "0  4.00    blue  \n",
       "1  4.00   green  \n",
       "2  4.00   white  \n",
       "3  4.00  yellow  \n",
       "4  4.00    grey  \n",
       "5  4.00  bisque  "
      ]
     },
     "execution_count": 8,
     "metadata": {},
     "output_type": "execute_result"
    }
   ],
   "source": [
    "data"
   ]
  },
  {
   "cell_type": "code",
   "execution_count": 9,
   "id": "9380c93e-38dc-4945-831b-a05401db4ce6",
   "metadata": {},
   "outputs": [
    {
     "name": "stdout",
     "output_type": "stream",
     "text": [
      "Requirement already satisfied: plotly in c:\\users\\harman\\appdata\\local\\programs\\python\\python39\\lib\\site-packages (5.4.0)\n",
      "Requirement already satisfied: tenacity>=6.2.0 in c:\\users\\harman\\appdata\\local\\programs\\python\\python39\\lib\\site-packages (from plotly) (8.0.1)\n",
      "Requirement already satisfied: six in c:\\users\\harman\\appdata\\roaming\\python\\python39\\site-packages (from plotly) (1.16.0)\n",
      "Note: you may need to restart the kernel to use updated packages.\n"
     ]
    },
    {
     "name": "stderr",
     "output_type": "stream",
     "text": [
      "WARNING: You are using pip version 21.2.4; however, version 21.3.1 is available.\n",
      "You should consider upgrading via the 'C:\\Users\\harman\\AppData\\Local\\Programs\\Python\\Python39\\python.exe -m pip install --upgrade pip' command.\n"
     ]
    }
   ],
   "source": [
    "pip install plotly"
   ]
  },
  {
   "cell_type": "code",
   "execution_count": 10,
   "id": "cae3283e-b466-464d-9068-71992f64e841",
   "metadata": {},
   "outputs": [],
   "source": [
    " import matplotlib.pyplot as plt"
   ]
  },
  {
   "cell_type": "code",
   "execution_count": 11,
   "id": "74a3f373-a70a-4669-b877-a8667610b0ca",
   "metadata": {},
   "outputs": [],
   "source": [
    "import pandas as pd\n",
    "import matplotlib.pyplot as plt\n",
    "\n",
    "dataframe = data "
   ]
  },
  {
   "cell_type": "code",
   "execution_count": 12,
   "id": "115cc194-ba71-449c-bacf-57ca316b635a",
   "metadata": {},
   "outputs": [
    {
     "data": {
      "image/png": "[encoded data removed]",
      "text/plain": [
       "<Figure size 432x288 with 1 Axes>"
      ]
     },
     "metadata": {
      "needs_background": "light"
     },
     "output_type": "display_data"
    }
   ],
   "source": [
    "dataframe.groupby('Artist')['id'].nunique().plot(kind='bar')\n",
    "plt.show()"
   ]
  },
  {
   "cell_type": "code",
   "execution_count": 13,
   "id": "726f13c3-df3f-464d-9519-1cac5f911603",
   "metadata": {},
   "outputs": [
    {
     "data": {
      "text/plain": [
       "<AxesSubplot:ylabel='id'>"
      ]
     },
     "execution_count": 13,
     "metadata": {},
     "output_type": "execute_result"
    },
    {
     "data": {
      "image/png": "[encoded data removed]",
      "text/plain": [
       "<Figure size 432x288 with 1 Axes>"
      ]
     },
     "metadata": {},
     "output_type": "display_data"
    }
   ],
   "source": [
    " dataframe.groupby('Genre')['id'].nunique().plot(kind='pie', shadow=True)\n",
    " "
   ]
  },
  {
   "cell_type": "code",
   "execution_count": null,
   "id": "425e215b-3926-4ba0-85ee-3c5dd9e8afb0",
   "metadata": {},
   "outputs": [],
   "source": [
    " "
   ]
  },
  {
   "cell_type": "code",
   "execution_count": null,
   "id": "9e7a5ea7-4006-44e3-b9eb-285bcfc9fb66",
   "metadata": {},
   "outputs": [],
   "source": []
  },
  {
   "cell_type": "code",
   "execution_count": null,
   "id": "4760b5d3-10da-4043-b93d-a19db769f878",
   "metadata": {},
   "outputs": [],
   "source": []
  }
 ],
 "metadata": {
  "kernelspec": {
   "display_name": "Python 3 (ipykernel)",
   "language": "python",
   "name": "python3"
  },
  "language_info": {
   "codemirror_mode": {
    "name": "ipython",
    "version": 3
   },
   "file_extension": ".py",
   "mimetype": "text/x-python",
   "name": "python",
   "nbconvert_exporter": "python",
   "pygments_lexer": "ipython3",
   "version": "3.9.8"
  }
 },
 "nbformat": 4,
 "nbformat_minor": 5
}
